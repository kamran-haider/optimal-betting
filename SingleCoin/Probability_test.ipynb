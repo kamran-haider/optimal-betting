{
 "cells": [
  {
   "cell_type": "code",
   "execution_count": 1,
   "metadata": {
    "collapsed": true
   },
   "outputs": [],
   "source": [
    "import numpy as np\n",
    "import matplotlib.pyplot as plt\n",
    "from SingleCoin import SingleCoinBetting\n",
    "%matplotlib inline"
   ]
  },
  {
   "cell_type": "code",
   "execution_count": 4,
   "metadata": {
    "collapsed": false
   },
   "outputs": [],
   "source": [
    "initial_logwealth = 10       # The log of the amount of money we start with before the betting\n",
    "nflips = 1000               # The number of iterated coin flips that will be sequentially bet on\n",
    "p =0.6                      # The probability of winning the coin flip\n",
    "coin = SingleCoinBetting(p=p, initial_logwealth=initial_logwealth)"
   ]
  },
  {
   "cell_type": "code",
   "execution_count": 6,
   "metadata": {
    "collapsed": false
   },
   "outputs": [],
   "source": [
    "nrepeats = 1000             \n",
    "final_wealth = np.zeros(nrepeats)\n",
    "\n",
    "for r in range((nrepeats)):\n",
    "    coin.logwealth = initial_logwealth\n",
    "    coin.gamble(nflips)\n",
    "    final_wealth[r] = coin.logwealth\n",
    "    \n",
    "freq = []\n",
    "logtargets = np.array((10,15,20,25,30,35,40,45,50,55))\n",
    "for t in logtargets:\n",
    "    freq.append((np.sum(final_wealth >= t))/float(nrepeats))"
   ]
  },
  {
   "cell_type": "code",
   "execution_count": 7,
   "metadata": {
    "collapsed": false
   },
   "outputs": [],
   "source": [
    "pred = [] \n",
    "coin.logwealth = initial_logwealth\n",
    "for t in logtargets:\n",
    "    pred.append(coin.prob_exceeding_target(target=np.exp(t), n_trials=nflips))\n"
   ]
  },
  {
   "cell_type": "code",
   "execution_count": 8,
   "metadata": {
    "collapsed": false
   },
   "outputs": [
    {
     "data": {
      "image/png": "[encoded data removed]",
      "text/plain": [
       "<matplotlib.figure.Figure at 0x110721b90>"
      ]
     },
     "metadata": {},
     "output_type": "display_data"
    }
   ],
   "source": [
    "plt.scatter(logtargets, freq)\n",
    "plt.plot(logtargets, pred, color='red')\n",
    "plt.ylim(-0.05,1.05)\n",
    "plt.xlabel('Log of target wealth')\n",
    "plt.ylabel('Probability')\n",
    "plt.title('Probability of reaching or exceeding target')\n",
    "plt.legend(('Prediction','Frequency'))\n",
    "plt.show()"
   ]
  },
  {
   "cell_type": "markdown",
   "metadata": {
    "collapsed": true
   },
   "source": [
    "In the second example, we have a target, but the number of trials, i.e. coin flips is unkown. "
   ]
  },
  {
   "cell_type": "code",
   "execution_count": 30,
   "metadata": {
    "collapsed": false
   },
   "outputs": [],
   "source": [
    "logtarget = 300\n",
    "initial_logwealth = 10\n",
    "coin.logwealth = initial_logwealth\n",
    "\n",
    "nrepeats = 1000            \n",
    "maxflips = nflips\n",
    "\n",
    "win_count = 0\n",
    "n = 1\n",
    "logwealth = coin.logwealth\n",
    "\n",
    "for r in range(nrepeats):\n",
    "    for flip in range(nflips):\n",
    "        coin.gamble(n_trials=1)\n",
    "        if coin.logwealth >= logtarget:\n",
    "            win_count += 1\n",
    "            break"
   ]
  },
  {
   "cell_type": "code",
   "execution_count": 31,
   "metadata": {
    "collapsed": false
   },
   "outputs": [
    {
     "name": "stdout",
     "output_type": "stream",
     "text": [
      "1\n"
     ]
    }
   ],
   "source": [
    "print n"
   ]
  },
  {
   "cell_type": "code",
   "execution_count": 35,
   "metadata": {
    "collapsed": false
   },
   "outputs": [
    {
     "name": "stdout",
     "output_type": "stream",
     "text": [
      "0.0\n"
     ]
    }
   ],
   "source": [
    "win_count = 0\n",
    "n = 1\n",
    "logwealth = coin.logwealth\n",
    "for r in range(nrepeats):\n",
    "    while logwealth <= logtarget and n <= maxflips:\n",
    "        coin.gamble(n_trials=n)\n",
    "        logwealth = coin.logwealth\n",
    "        n += 1\n",
    "    if logwealth <= logtarget:\n",
    "        win_count += 1\n",
    "\n",
    "print win_count/nrepeats/0.1"
   ]
  },
  {
   "cell_type": "code",
   "execution_count": 72,
   "metadata": {
    "collapsed": false
   },
   "outputs": [
    {
     "data": {
      "text/plain": [
       "41"
      ]
     },
     "execution_count": 72,
     "metadata": {},
     "output_type": "execute_result"
    }
   ],
   "source": [
    "n"
   ]
  },
  {
   "cell_type": "code",
   "execution_count": null,
   "metadata": {
    "collapsed": true
   },
   "outputs": [],
   "source": []
  }
 ],
 "metadata": {
  "kernelspec": {
   "display_name": "Python 2",
   "language": "python",
   "name": "python2"
  },
  "language_info": {
   "codemirror_mode": {
    "name": "ipython",
    "version": 2
   },
   "file_extension": ".py",
   "mimetype": "text/x-python",
   "name": "python",
   "nbconvert_exporter": "python",
   "pygments_lexer": "ipython2",
   "version": "2.7.12"
  }
 },
 "nbformat": 4,
 "nbformat_minor": 0
}
