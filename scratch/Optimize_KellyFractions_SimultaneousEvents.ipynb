{
 "cells": [
  {
   "cell_type": "code",
   "execution_count": 49,
   "metadata": {
    "collapsed": false
   },
   "outputs": [],
   "source": [
    "import numpy as np\n",
    "from SamplerTools import CoinFlipSampler, expected_log_return, optimal_kelly_fractions\n"
   ]
  },
  {
   "cell_type": "markdown",
   "metadata": {},
   "source": [
    "## Optimization porblem at hand\n",
    "The following function returns expected growth rate per trial for a set of simultaneous events, multiple coin flips in this case. \n",
    "\n",
    "$g(f_1, f_2, \\cdots) = \\sum_i p_i[1 + \\log(\\sum_k s_k f_k)]$\n",
    "\n",
    "Where $i$ is an index over all possible outcomes of the simultaneous coin flip, and hence $p_i$ is the probability of $i^{th}$ outcome, $k$ is an index over coins in the $i^{th}$ outcome, $s_k$ is the outcome for $k^{th}$ coin and $f_k$ is the fraction of wealth bet on $k^{th}$ coin.\n",
    "\n",
    "Our goal is to determine the values of $f_k$ that maximize $g$. One of the constraints is that $\\sum_k f_k < 1$.\n",
    "_Notes: Should there also be some kind of constraints on the probability distribution over sample space?_\n"
   ]
  },
  {
   "cell_type": "code",
   "execution_count": 50,
   "metadata": {
    "collapsed": false
   },
   "outputs": [
    {
     "name": "stdout",
     "output_type": "stream",
     "text": [
      "Expected log return for initial guess:  -0.0744331020763\n",
      "Expected log return for final guess:  -2.44302592195e-07\n",
      "Optimized kelly fractions:  [-0.00049455 -0.00049399]\n"
     ]
    }
   ],
   "source": [
    "# Case 1: Probability of both or at least one coin flipping head is favored\n",
    "flipper = CoinFlipSampler(2, probs=[1, 1, 1, 1])\n",
    "initial_guess = [0.2, 0.3]\n",
    "print \"Expected log return for initial guess: \", expected_log_return(initial_guess, flipper)\n",
    "fractions = optimal_kelly_fractions(flipper, initial_guess)\n",
    "print \"Expected log return for final guess: \", expected_log_return(fractions, flipper)\n",
    "print \"Optimized kelly fractions: \", fractions\n"
   ]
  },
  {
   "cell_type": "code",
   "execution_count": 51,
   "metadata": {
    "collapsed": false
   },
   "outputs": [
    {
     "name": "stdout",
     "output_type": "stream",
     "text": [
      "Expected log return for initial guess:  -0.0744331020763\n",
      "Expected log return for final guess:  -2.44302592195e-07\n",
      "Optimized kelly fractions:  [-0.00049455 -0.00049399]\n"
     ]
    }
   ],
   "source": [
    "# Case 2: Uniform probability distribution\n",
    "flipper = CoinFlipSampler(2, probs=[1, 1, 1, 1])\n",
    "initial_guess = [0.2, 0.3]\n",
    "print \"Expected log return for initial guess: \", expected_log_return(initial_guess, flipper)\n",
    "fractions = optimal_kelly_fractions(flipper, initial_guess)\n",
    "print \"Expected log return for final guess: \", expected_log_return(fractions, flipper)\n",
    "print \"Optimized kelly fractions: \", fractions\n"
   ]
  },
  {
   "cell_type": "markdown",
   "metadata": {
    "collapsed": true
   },
   "source": [
    "Analytically, for two coin flips, we get the following expressions for $f_1^*$ and $f_2^*$:\n",
    "\n",
    "$f_1^* = \\frac{m_1(1 - m_2^2)}{1 - m_1^2m_2^2}$ and \n",
    "$f_2^* = \\frac{m_2(1 - m_1^2)}{1 - m_1^2m_2^2}$\n",
    "where $m_i = p_i - q_i$\n",
    "\n",
    "Let's first see how the function behaves for two coins."
   ]
  },
  {
   "cell_type": "code",
   "execution_count": null,
   "metadata": {
    "collapsed": true
   },
   "outputs": [],
   "source": []
  }
 ],
 "metadata": {
  "anaconda-cloud": {},
  "kernelspec": {
   "display_name": "Python [default]",
   "language": "python",
   "name": "python2"
  },
  "language_info": {
   "codemirror_mode": {
    "name": "ipython",
    "version": 2
   },
   "file_extension": ".py",
   "mimetype": "text/x-python",
   "name": "python",
   "nbconvert_exporter": "python",
   "pygments_lexer": "ipython2",
   "version": "2.7.12"
  }
 },
 "nbformat": 4,
 "nbformat_minor": 1
}
